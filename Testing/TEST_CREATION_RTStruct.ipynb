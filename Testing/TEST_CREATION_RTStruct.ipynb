{
 "cells": [
  {
   "cell_type": "markdown",
   "metadata": {},
   "source": [
    "# Importations"
   ]
  },
  {
   "cell_type": "code",
   "execution_count": 1,
   "metadata": {},
   "source": [
    "# Test d'importation de SegmentationTask\n",
    "try:\n",
    "    from unetr.model_module import SegmentationTask\n",
    "    print(\"SegmentationTask importé avec succès.\")\n",
    "except ImportError as e:\n",
    "    print(f\"Erreur d'importation : {e}\")\n",
    "except Exception as e:\n",
    "    print(f\"Erreur lors de l'importation de SegmentationTask: {e}\")"
   ],
   "outputs": []
  },
  {
   "cell_type": "code",
   "execution_count": 2,
   "metadata": {},
   "source": [
    "from typing import List\n",
    "import pydicom\n",
    "from pydicom.dataset import Dataset\n",
    "from io import BytesIO\n",
    "import os \n",
    "import nibabel as nib\n",
    "import numpy as np\n",
    "from unetr.utilsUnetr.transforms import CropBedd, RandCropByPosNegLabeld, ResizeOrDoNothingd\n",
    "from monai.transforms import Compose, Orientationd, ScaleIntensityRanged, CropForegroundd, ToTensord\n",
    "from monai.transforms import RandFlipd, RandRotate90d, RandScaleIntensityd, RandShiftIntensityd\n",
    "import torch\n",
    "from monai.inferers import sliding_window_inference\n",
    "from unetr.model_module import SegmentationTask\n",
    "import monai.transforms as transforms\n",
    "from rt_utils import RTStructBuilder"
   ],
   "outputs": []
  },
  {
   "cell_type": "markdown",
   "metadata": {},
   "source": [
    "# Pipeline pour charger des dicoms en mémoire"
   ]
  },
  {
   "cell_type": "code",
   "execution_count": 4,
   "metadata": {},
   "source": [
    "def load_dicom_datasets(dicom_folder_path: str) -> List[Dataset]:\n",
    "    \"\"\"\n",
    "    Charge tous les fichiers DICOM d'un dossier donné en datasets pydicom.\n",
    "    \"\"\"\n",
    "    dicom_datasets = []\n",
    "    for filename in os.listdir(dicom_folder_path):\n",
    "        if filename.endswith('.dcm'):\n",
    "            file_path = os.path.join(dicom_folder_path, filename)\n",
    "            try:\n",
    "                ds = pydicom.dcmread(file_path)\n",
    "                dicom_datasets.append(ds)\n",
    "            except Exception as e:\n",
    "                print(f\"Erreur lors de la lecture du fichier DICOM {filename}: {e}\")\n",
    "                continue  # ou lever une exception selon les besoins de votre application\n",
    "\n",
    "    if not dicom_datasets:\n",
    "        raise Exception(\"Aucun fichier DICOM valide trouvé dans le dossier spécifié.\")\n",
    "\n",
    "    return dicom_datasets\n",
    "\n",
    "# Utilisation de la fonction\n",
    "dicom_folder_path = '/Users/romain/Documents/P_R_O_J_E_C_T_S/IRM-Project/mbiaDataDownloads/DATA_VERITE_TERRAIN/RM/'\n",
    "dicom_files = load_dicom_datasets(dicom_folder_path)\n",
    "print(dicom_files[0])"
   ],
   "outputs": []
  },
  {
   "cell_type": "markdown",
   "metadata": {},
   "source": [
    "# Fonctions"
   ]
  },
  {
   "cell_type": "code",
   "execution_count": 9,
   "metadata": {},
   "source": [
    "\"\"\"\n",
    "def create_rtstruct(dicom_datasets: List[pydicom.dataset.Dataset], label):\n",
    "    rtstruct = RTStructBuilder.create_new_from_memory(dicom_datasets)\n",
    "    for i in range(1, int(np.max(label)) + 1):\n",
    "        mask = np.where(label[0, :, :, :] == i, True, False) \n",
    "        rtstruct.add_roi(mask=mask, color=[255, 0, 0], name=\"GTV_MetIA_\" + str(i))\n",
    "    return rtstruct\n",
    "\"\"\"\n",
    "\"\"\"\n",
    "def create_rtstruct(dicom_datasets: List[pydicom.dataset.Dataset], label):\n",
    "    rtstruct = RTStructBuilder.create_new_from_memory(dicom_datasets)\n",
    "    for i in range (1, int(np.max(label))+1):\n",
    "        mask = np.where(label[0, :, :, :] == i, True, False) \n",
    "        rtstruct.add_roi(mask=np.rot90(np.where(mask==i, True, False)[0,:,:,:],3),color=[255, 0, 0], name=\"GTV_MetIA_\"+str(i))\n",
    "    return rtstruct\n",
    "\"\"\"\n",
    "\n",
    "def changeValueDicom(ds, un, deux, trois, quatre):\n",
    "    listeValeurInterdite=[]\n",
    "    valeur=0\n",
    "    for i in range (0,len(ds[un ,deux].value)):\n",
    "        valeur+=1\n",
    "        try:\n",
    "            print(ds[un, deux].value[i][un, quatre].value[:9] !=\"GTV_MetIA\", ds[un, deux].value[i][un, quatre].value[:9])\n",
    "            if ds[un, deux].value[i][un, quatre].value[:9] !=\"GTV_MetIA\":\n",
    "                listeValeurInterdite.append(ds[un, deux].value[i][un, trois].value)\n",
    "            else:\n",
    "                valeur, listeValeurInterdite=self.parcoursValue(valeur, listeValeurInterdite)\n",
    "                ds[un, deux].value[i][un, trois].value=valeur\n",
    "        except:\n",
    "            valeur, listeValeurInterdite=self.parcoursValue(valeur, listeValeurInterdite)\n",
    "            ds[un, deux].value[i][un, trois].value=valeur\n",
    "        print(ds[un, deux].value[i])\n",
    "    return ds\n",
    "rtstruct_path = '/Users/romain/Documents/P_R_O_J_E_C_T_S/IRM-Project/mbiaDataDownloads/DATA_VERITE_TERRAIN/META_MODIFIED/RS1.2.752.243.1.1.20230602094342956.1800.51115.dcm'\n",
    "label = np.load('LabelARTuring.npy');\n",
    "print(label.shape)\n",
    "\n",
    "rtstruct = RTStructBuilder.create_from(dicom_series_path=dicom_folder_path, rt_struct_path=rtstruct_path)\n",
    "for i in range (1, int(np.max(label))+1):\n",
    "    rtstruct.add_roi(mask=np.rot90(np.where(label==i, True, False)[0,:,:,:],3),color=[255, 0, 0], name=\"GTV_MetIA_\"+str(i))\n",
    "rtstruct.save(\"./res.dcm\")\n",
    "ds = pydicom.dcmread(rtstruct_path)\n",
    "#ds = self.changeValueDicom(ds, 0x3006, 0x0080, 0x0084, 0x0085)\n",
    "ds = changeValueDicom(ds, 0x3006, 0x0020, 0x0022, 0x0026)\n",
    "pydicom.filewriter.dcmwrite(rtstruct_path,ds,write_like_original=True)"
   ],
   "outputs": []
  },
  {
   "cell_type": "markdown",
   "metadata": {},
   "source": [
    "# Suppression des petites metastases / faux positifs"
   ]
  },
  {
   "cell_type": "code",
   "execution_count": 3,
   "metadata": {},
   "source": [
    "dicom_folder_path = '/Users/romain/Documents/P_R_O_J_E_C_T_S/IRM-Project/mbiaDataDownloads/DATA_VERITE_TERRAIN/RM/'\n",
    "rtstruct_path = '/Users/romain/Documents/P_R_O_J_E_C_T_S/IRM-Project/mbiaDataDownloads/DATA_VERITE_TERRAIN/META/RS1.2.752.243.1.1.20230602094342956.1800.51115.dcm'"
   ],
   "outputs": []
  },
  {
   "cell_type": "code",
   "execution_count": 62,
   "metadata": {},
   "source": [
    "label = np.load('labelAl.npy')\n",
    "label.shape\n",
    "import scipy.ndimage as ndimage\n",
    "labeled_array, num_features = ndimage.label(label)\n",
    "# afficher la feature 13\n",
    "slices = ndimage.find_objects(labeled_array)\n",
    "\"\"\"\n",
    "for i in range(1, num_features + 1):\n",
    "    print(\"voici la slice \",i-1,\":\")\n",
    "    print(slices[i-1])\n",
    "    roi_data = labeled_array[slices[i-1]]\n",
    "    print(roi_data.shape)\n",
    "    print(roi_data)\n",
    "    print(np.unique(roi_data))\n",
    "    print(i)\n",
    "    print(np.sum(roi_data))\n",
    "\"\"\"\n",
    "#print(slices[24])\n",
    "roi_data = label[0:1, 205:228, 209:235, 80:89]\n",
    "#print(roi_data.shape)\n",
    "\n",
    "\n",
    "# Calculer et afficher la taille de chaque feature\n",
    "for i in range(num_features):\n",
    "    if slices[i] is not None:\n",
    "        # Calculer la taille de la région\n",
    "        size = np.prod([(s.stop - s.start) for s in slices[i] if s is not None])\n",
    "        print(f\"Feature {i + 1}: Size = {size}\")\n",
    "        # Afficher des informations supplémentaires si nécessaire\n",
    "        roi_data = labeled_array[slices[i]]\n",
    "        #print(f\"ROI data shape for feature {i + 1}: {roi_data.shape}\")\n",
    "        #print(f\"Unique labels in ROI for feature {i + 1}: {np.unique(roi_data)}\")\n",
    "        #print(f\"Sum of elements in ROI for feature {i + 1}: {np.sum(roi_data == i + 1)}\")\n",
    "\n",
    "print(\"--------------\")\n",
    "\n",
    "# Calculer et afficher la taille de chaque feature\n",
    "for i in range(num_features):\n",
    "    current_slice = slices[i]\n",
    "    if current_slice is not None:\n",
    "        current_region = labeled_array[current_slice]\n",
    "        # Calculer la taille de la région\n",
    "        size = np.sum(current_region == i + 1)\n",
    "        print(f\"Feature {i + 1}: Size = {size}\")\n",
    "        # Afficher des informations supplémentaires si nécessaire\n",
    "        roi_data = labeled_array[slices[i]]\n"
   ],
   "outputs": []
  },
  {
   "cell_type": "code",
   "execution_count": 47,
   "metadata": {},
   "source": [
    "labeled_array, num_features = ndimage.label(label)\n",
    "print(\"Number of features:\", num_features)\n",
    "\n",
    "# Trouver les slices pour chaque région\n",
    "slices = ndimage.find_objects(labeled_array)\n",
    "\n",
    "# Parcourir chaque feature pour évaluer et potentiellement supprimer les petites régions\n",
    "for i in range(num_features):\n",
    "    if slices[i] is not None:\n",
    "        # Calculer la taille de la région\n",
    "        size = np.prod([(s.stop - s.start) for s in slices[i] if s is not None])\n",
    "        print(f\"Feature {i + 1}: Size = {size}\")\n",
    "        \n",
    "        # Vérifier si la taille est inférieure au seuil\n",
    "        if size < 20:\n",
    "            # Définir les valeurs de cette région à zéro\n",
    "            labeled_array[slices[i]] = 0"
   ],
   "outputs": []
  },
  {
   "cell_type": "code",
   "execution_count": 49,
   "metadata": {},
   "source": [
    "labeled_array_res, num_features_res = ndimage.label(labeled_array)\n",
    "print(\"Number of features after removing small regions:\", num_features_res)"
   ],
   "outputs": []
  },
  {
   "cell_type": "code",
   "execution_count": 58,
   "metadata": {},
   "source": [
    "import matplotlib.pyplot as plt\n",
    "\n",
    "plt.imshow(labeled_array[max(labeled_array.shape) // 2], cmap='gray')  # Afficher une coupe centrale si 3D\n",
    "plt.title('Filtered Labels')\n",
    "plt.colorbar()\n",
    "plt.show()\n"
   ],
   "outputs": []
  },
  {
   "cell_type": "code",
   "execution_count": 6,
   "metadata": {},
   "source": [
    "rtstruct = RTStructBuilder.create_from(dicom_series_path=dicom_folder_path, rt_struct_path=rtstruct_path)\n",
    "\n",
    "for i in range (1, np.max(label)+1):\n",
    "    rtstruct.add_roi(mask=np.rot90(np.where(label[0]==i, True, False)[0,:,:,:],3),color=[255, 0, 0], name=\"GTV_MetIA_\"+str(i))\n",
    "rtstruct.save(\"./RESULTAT_RTSTRUCT_AL_SEUILLAGE.dcm\")\n",
    "\n",
    "ds = pydicom.dcmread(\"./RESULTAT_RTSTRUCT_AL_SEUILLAGE.dcm\")\n",
    "#ds = self.changeValueDicom(ds, 0x3006, 0x0080, 0x0084, 0x0085)\n",
    "ds = changeValueDicom(ds, 0x3006, 0x0020, 0x0022, 0x0026)\n",
    "pydicom.filewriter.dcmwrite(\"./RESULTAT_RTSTRUCT_AL_SEUILLAGE.dcm\",ds,write_like_original=True)"
   ],
   "outputs": []
  }
 ],
 "metadata": {
  "kernelspec": {
   "display_name": "Python 3 (ipykernel)",
   "language": "python",
   "name": "python3"
  },
  "language_info": {
   "codemirror_mode": {
    "name": "ipython",
    "version": 3
   },
   "file_extension": ".py",
   "mimetype": "text/x-python",
   "name": "python",
   "nbconvert_exporter": "python",
   "pygments_lexer": "ipython3",
   "version": "3.9.19"
  }
 },
 "nbformat": 4,
 "nbformat_minor": 4
}
