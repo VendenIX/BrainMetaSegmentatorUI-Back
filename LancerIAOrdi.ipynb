{
 "cells": [
  {
   "cell_type": "code",
   "metadata": {
    "colab": {
     "base_uri": "https://localhost:8080/"
    },
    "id": "G5pZbw3sHSfb",
    "outputId": "a0f9a036-4d98-4e97-d993-496b82aea151",
    "ExecuteTime": {
     "end_time": "2024-06-19T09:12:48.146885Z",
     "start_time": "2024-06-19T09:12:46.549849Z"
    }
   },
   "source": [
    "import numpy as np\n",
    "import torch\n",
    "#import torchvision\n",
    "import matplotlib.pyplot as plt\n",
    "%matplotlib inline\n",
    "import monai\n",
    "device = torch.device('cuda' if torch.cuda.is_available() else 'cpu')\n",
    "print(device)"
   ],
   "outputs": [
    {
     "name": "stdout",
     "output_type": "stream",
     "text": [
      "cuda\n"
     ]
    }
   ],
   "execution_count": 1
  },
  {
   "cell_type": "code",
   "metadata": {
    "colab": {
     "base_uri": "https://localhost:8080/"
    },
    "id": "nfp1byGdeovE",
    "outputId": "ff471f46-597c-4328-bd3a-2ea77b61d195",
    "scrolled": true,
    "ExecuteTime": {
     "end_time": "2024-06-19T11:28:45.906168Z",
     "start_time": "2024-06-19T11:27:16.326822Z"
    }
   },
   "source": [
    "%matplotlib inline\n",
    "import os\n",
    "import json\n",
    "\n",
    "#permet de load les artefacts en dehors de cet ordinateur (nom modifiable)\n",
    "os.environ[\"WANDB_CACHE_DIR\"]=\"ArtifactsT\"\n",
    "#desactive l'enregistrement dans wandb \n",
    "os.environ[\"WANDB_DISABLED\"]=\"true\"\n",
    "!python unetr/cli.py -c config.yaml fit --trainer.logger.name=\"RunT\" --data.data_dir=\"nifti_dataset_small\" --data.train_batch_size=16 --data.workers=8 --data.val_batch_size=16"
   ],
   "outputs": [
    {
     "name": "stdout",
     "output_type": "stream",
     "text": [
      "^C\n"
     ]
    }
   ],
   "execution_count": 4
  }
 ],
 "metadata": {
  "accelerator": "GPU",
  "colab": {
   "provenance": []
  },
  "gpuClass": "standard",
  "kernelspec": {
   "display_name": "Python 3 (ipykernel)",
   "language": "python",
   "name": "python3"
  },
  "language_info": {
   "codemirror_mode": {
    "name": "ipython",
    "version": 3
   },
   "file_extension": ".py",
   "mimetype": "text/x-python",
   "name": "python",
   "nbconvert_exporter": "python",
   "pygments_lexer": "ipython3",
   "version": "3.9.-1"
  }
 },
 "nbformat": 4,
 "nbformat_minor": 1
}
