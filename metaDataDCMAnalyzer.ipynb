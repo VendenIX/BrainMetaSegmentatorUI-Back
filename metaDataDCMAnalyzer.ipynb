{
 "cells": [
  {
   "cell_type": "code",
   "execution_count": 10,
   "id": "d42132dc-7088-47ff-a4d6-1daec47fcb94",
   "metadata": {},
   "outputs": [
    {
     "name": "stdout",
     "output_type": "stream",
     "text": [
      "Patient ID: LCTSC-Test-S1-101\n",
      "Study Instance UID: 1.3.6.1.4.1.14519.5.2.1.7014.4598.492964872630309412859177308186\n",
      "Series Instance UID: 1.3.6.1.4.1.14519.5.2.1.7014.4598.280355341349691222365783556597\n",
      "SOP Instance UID: 1.3.6.1.4.1.14519.5.2.1.7014.4598.929007819506323387215669464914\n",
      "Modality: (0008, 0060) Modality                            CS: 'RTSTRUCT'\n",
      "Manufacturer: (0008, 0070) Manufacturer                        LO: 'Plastimatch'\n"
     ]
    }
   ],
   "source": [
    "from glob import glob\n",
    "import pydicom as dicom\n",
    "\n",
    "DICOM_PATH = \"./1-1.dcm\"\n",
    "ds = dicom.dcmread(DICOM_PATH)\n",
    "\n",
    "# Afficher les métadonnées clés\n",
    "print(\"Patient ID:\", ds.PatientID)\n",
    "print(\"Study Instance UID:\", ds.StudyInstanceUID)\n",
    "print(\"Series Instance UID:\", ds.SeriesInstanceUID)\n",
    "print(\"SOP Instance UID:\", ds.SOPInstanceUID)\n",
    "print(\"Modality:\", file_meta['Modality'])\n",
    "print(\"Manufacturer:\", file_meta['Manufacturer'])"
   ]
  }
 ],
 "metadata": {
  "kernelspec": {
   "display_name": "Python 3 (ipykernel)",
   "language": "python",
   "name": "python3"
  },
  "language_info": {
   "codemirror_mode": {
    "name": "ipython",
    "version": 3
   },
   "file_extension": ".py",
   "mimetype": "text/x-python",
   "name": "python",
   "nbconvert_exporter": "python",
   "pygments_lexer": "ipython3",
   "version": "3.10.12"
  }
 },
 "nbformat": 4,
 "nbformat_minor": 5
}
