{
 "cells": [
  {
   "cell_type": "markdown",
   "metadata": {},
   "source": [
    "# Importations"
   ]
  },
  {
   "cell_type": "code",
   "execution_count": 1,
   "metadata": {},
   "source": [
    "from typing import List\n",
    "import pydicom\n",
    "from pydicom.dataset import Dataset\n",
    "from io import BytesIO\n",
    "import os \n",
    "import nibabel as nib\n",
    "import numpy as np\n",
    "from unetr.utilsUnetr.transforms import CropBedd, RandCropByPosNegLabeld, ResizeOrDoNothingd\n",
    "from monai.transforms import Compose, Orientationd, ScaleIntensityRanged, CropForegroundd, ToTensord\n",
    "from monai.transforms import RandFlipd, RandRotate90d, RandScaleIntensityd, RandShiftIntensityd\n",
    "import torch\n",
    "from monai.inferers import sliding_window_inference\n",
    "from unetr.model_module import SegmentationTask\n",
    "import monai.transforms as transforms\n",
    "from rt_utils import RTStructBuilder"
   ],
   "outputs": []
  },
  {
   "cell_type": "markdown",
   "metadata": {},
   "source": [
    "# Pipeline pour charger des dicoms en mémoire"
   ]
  },
  {
   "cell_type": "code",
   "execution_count": 9,
   "metadata": {},
   "source": [
    "def load_dicom_datasets(dicom_folder_path: str) -> List[Dataset]:\n",
    "    \"\"\"\n",
    "    Charge tous les fichiers DICOM d'un dossier donné en datasets pydicom.\n",
    "    \"\"\"\n",
    "    dicom_datasets = []\n",
    "    for filename in os.listdir(dicom_folder_path):\n",
    "        if filename.endswith('.dcm'):\n",
    "            file_path = os.path.join(dicom_folder_path, filename)\n",
    "            try:\n",
    "                ds = pydicom.dcmread(file_path)\n",
    "                dicom_datasets.append(ds)\n",
    "            except Exception as e:\n",
    "                print(f\"Erreur lors de la lecture du fichier DICOM {filename}: {e}\")\n",
    "                continue  # ou lever une exception selon les besoins de votre application\n",
    "\n",
    "    if not dicom_datasets:\n",
    "        raise Exception(\"Aucun fichier DICOM valide trouvé dans le dossier spécifié.\")\n",
    "\n",
    "    return dicom_datasets\n",
    "\n",
    "# Utilisation de la fonction\n",
    "dicom_folder_path = '/Users/romain/Documents/P_R_O_J_E_C_T_S/IRM-Project/mbiaDataDownloads/DATA_VERITE_TERRAIN/RM/'\n",
    "dicom_files = load_dicom_datasets(dicom_folder_path)\n",
    "print(dicom_files[0])"
   ],
   "outputs": []
  },
  {
   "cell_type": "markdown",
   "metadata": {},
   "source": [
    "# Fonctions"
   ]
  },
  {
   "cell_type": "code",
   "execution_count": 10,
   "metadata": {},
   "source": [
    "def create_rtstruct(dicom_datasets: List[pydicom.dataset.Dataset], label):\n",
    "    rtstruct = RTStructBuilder.create_new_from_memory(dicom_datasets)\n",
    "    for i in range(1, np.max(label) + 1):\n",
    "        mask = np.where(label[0, :, :, :] == i, True, False) \n",
    "        rtstruct.add_roi(mask=mask, color=[255, 0, 0], name=\"GTV_MetIA_\" + str(i))\n",
    "    return rtstruct\n",
    "\n",
    "label = np.load('Label.npy');\n",
    "print(label.shape)\n",
    "\n",
    "rtstruct = create_rtstruct(dicom_files, label)\n",
    "print(rtstruct)"
   ],
   "outputs": []
  },
  {
   "cell_type": "code",
   "execution_count": 13,
   "metadata": {},
   "source": [
    "from monai.transforms import LoadImage\n",
    "\n",
    "img_mystere = torch.tensor(LoadImage(image_only=True)(dicom_folder_path))\n"
   ],
   "outputs": []
  }
 ],
 "metadata": {
  "kernelspec": {
   "display_name": "IRM",
   "language": "python",
   "name": "python3"
  },
  "language_info": {
   "codemirror_mode": {
    "name": "ipython",
    "version": 3
   },
   "file_extension": ".py",
   "mimetype": "text/x-python",
   "name": "python",
   "nbconvert_exporter": "python",
   "pygments_lexer": "ipython3",
   "version": "3.9.19"
  }
 },
 "nbformat": 4,
 "nbformat_minor": 2
}
